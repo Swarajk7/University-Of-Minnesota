{
 "cells": [
  {
   "cell_type": "code",
   "execution_count": 1,
   "metadata": {
    "collapsed": false
   },
   "outputs": [
    {
     "name": "stderr",
     "output_type": "stream",
     "text": [
      "Loading required package: car\n",
      "Loading required package: effects\n",
      "\n",
      "Attaching package: 'effects'\n",
      "\n",
      "The following object is masked from 'package:car':\n",
      "\n",
      "    Prestige\n",
      "\n"
     ]
    }
   ],
   "source": [
    "library(alr4)"
   ]
  },
  {
   "cell_type": "code",
   "execution_count": 2,
   "metadata": {
    "collapsed": false
   },
   "outputs": [
    {
     "data": {
      "text/html": [
       "<table>\n",
       "<thead><tr><th scope=col>mheight</th><th scope=col>dheight</th></tr></thead>\n",
       "<tbody>\n",
       "\t<tr><td>59.7</td><td>55.1</td></tr>\n",
       "\t<tr><td>58.2</td><td>56.5</td></tr>\n",
       "</tbody>\n",
       "</table>\n"
      ],
      "text/latex": [
       "\\begin{tabular}{r|ll}\n",
       " mheight & dheight\\\\\n",
       "\\hline\n",
       "\t 59.7 & 55.1\\\\\n",
       "\t 58.2 & 56.5\\\\\n",
       "\\end{tabular}\n"
      ],
      "text/markdown": [
       "\n",
       "mheight | dheight | \n",
       "|---|---|\n",
       "| 59.7 | 55.1 | \n",
       "| 58.2 | 56.5 | \n",
       "\n",
       "\n"
      ],
      "text/plain": [
       "  mheight dheight\n",
       "1 59.7    55.1   \n",
       "2 58.2    56.5   "
      ]
     },
     "metadata": {},
     "output_type": "display_data"
    }
   ],
   "source": [
    "head(Heights,2)"
   ]
  },
  {
   "cell_type": "markdown",
   "metadata": {},
   "source": [
    "<h4>1.1>Histogram for dheight and mheight</h4>"
   ]
  },
  {
   "cell_type": "code",
   "execution_count": 3,
   "metadata": {
    "collapsed": false
   },
   "outputs": [
    {
     "data": {
      "image/png": "[encoded data removed]",
      "text/plain": [
       "Plot with title \"NA\""
      ]
     },
     "metadata": {},
     "output_type": "display_data"
    }
   ],
   "source": [
    "options(repr.plot.width=8, repr.plot.height=4)\n",
    "attach(mtcars)\n",
    "par(mfrow=c(1,2)) \n",
    "hist(Heights$dheight,breaks = 20,xlab = \"dheight\",main=NA)\n",
    "#not completely normally distributed, but it is approximately normal\n",
    "hist(x=Heights$mheight,breaks = 20,xlab = \"mheight\",main=NA)"
   ]
  },
  {
   "cell_type": "markdown",
   "metadata": {},
   "source": [
    "<h4>1.2>Standard error for Height of mother in inches and feet</h4>"
   ]
  },
  {
   "cell_type": "code",
   "execution_count": 4,
   "metadata": {
    "collapsed": false
   },
   "outputs": [
    {
     "data": {
      "text/html": [
       "0.063512412193054"
      ],
      "text/latex": [
       "0.063512412193054"
      ],
      "text/markdown": [
       "0.063512412193054"
      ],
      "text/plain": [
       "[1] 0.06351241"
      ]
     },
     "metadata": {},
     "output_type": "display_data"
    },
    {
     "data": {
      "text/html": [
       "0.00529270101608783"
      ],
      "text/latex": [
       "0.00529270101608783"
      ],
      "text/markdown": [
       "0.00529270101608783"
      ],
      "text/plain": [
       "[1] 0.005292701"
      ]
     },
     "metadata": {},
     "output_type": "display_data"
    }
   ],
   "source": [
    "#standard error\n",
    "std_error <- function(x) sd(x)/sqrt(length(x)) #sd/sqroot(n)\n",
    "convert_inches_to_feets <- function(x) x/12\n",
    "std_error(Heights$mheight) #standard error for mother's height\n",
    "std_error(convert_inches_to_feets(Heights$mheight)) #standard error for mother's height in feet"
   ]
  },
  {
   "cell_type": "markdown",
   "metadata": {},
   "source": [
    "<h4>1.3>90% Interval for E(mheight)</h4>"
   ]
  },
  {
   "cell_type": "code",
   "execution_count": 15,
   "metadata": {
    "collapsed": false
   },
   "outputs": [
    {
     "data": {
      "text/html": [
       "'[62.449981,62.455619]'"
      ],
      "text/latex": [
       "'{[}62.449981,62.455619{]}'"
      ],
      "text/markdown": [
       "'[62.449981,62.455619]'"
      ],
      "text/plain": [
       "[1] \"[62.449981,62.455619]\""
      ]
     },
     "metadata": {},
     "output_type": "display_data"
    },
    {
     "name": "stdout",
     "output_type": "stream",
     "text": [
      "[1] \"If we randomly select samples for N times, then the E(mheight) is 90% probable to lie within the above given range\"\n"
     ]
    }
   ],
   "source": [
    "estimated_mean <- mean(Heights$mheight)\n",
    "se_mheight <- std_error(Heights$mheight)\n",
    "#0.05 critical value for degree of freedom sample size -1\n",
    "df <- length(Heights$mheight) -1\n",
    "tValue <- qt(0.95,df)\n",
    "error <- tValue * se_mheight / sqrt(length(Heights$mheight))\n",
    "lower_bound <- estimated_mean - error\n",
    "upper_bound <- estimated_mean + error\n",
    "sprintf(\"[%f,%f]\",lower_bound,upper_bound)\n",
    "print('If we randomly select samples for N times, then the E(mheight) is 90% probable to lie within the above given range')"
   ]
  },
  {
   "cell_type": "markdown",
   "metadata": {},
   "source": [
    "<h4>1.4>p-value for hypothesis E(mHeight)=62.75</h4>"
   ]
  },
  {
   "cell_type": "code",
   "execution_count": 6,
   "metadata": {
    "collapsed": false
   },
   "outputs": [
    {
     "data": {
      "text/html": [
       "3.16102923848447e-06"
      ],
      "text/latex": [
       "3.16102923848447e-06"
      ],
      "text/markdown": [
       "3.16102923848447e-06"
      ],
      "text/plain": [
       "[1] 3.161029e-06"
      ]
     },
     "metadata": {},
     "output_type": "display_data"
    }
   ],
   "source": [
    "#for E(mHeight) = 62.75\n",
    "e_mheight <- 62.75\n",
    "t <- (e_mheight - estimated_mean)/se_mheight\n",
    "p <- 2*pt(-abs(t),df)\n",
    "p"
   ]
  },
  {
   "cell_type": "markdown",
   "metadata": {},
   "source": [
    "<h3>1.5>normally distributed with population mean 62.5 inches and population variance 5.5 inches</h3>"
   ]
  },
  {
   "cell_type": "markdown",
   "metadata": {},
   "source": [
    "<h4>a.probability that a randomly selected mother has height less than 68 inches</h4>"
   ]
  },
  {
   "cell_type": "code",
   "execution_count": 7,
   "metadata": {
    "collapsed": false
   },
   "outputs": [
    {
     "data": {
      "text/html": [
       "0.99049176316385"
      ],
      "text/latex": [
       "0.99049176316385"
      ],
      "text/markdown": [
       "0.99049176316385"
      ],
      "text/plain": [
       "[1] 0.9904918"
      ]
     },
     "metadata": {},
     "output_type": "display_data"
    }
   ],
   "source": [
    "mean_mheight = 62.5\n",
    "sd_mheight = sqrt(5.5)\n",
    "pnorm(q = 68,mean = mean_mheight,sd = sd_mheight)"
   ]
  },
  {
   "cell_type": "markdown",
   "metadata": {},
   "source": [
    "<h4>b.probability that a randomly selected mother has height between 60 and 65 inches</h4>"
   ]
  },
  {
   "cell_type": "code",
   "execution_count": 8,
   "metadata": {
    "collapsed": false
   },
   "outputs": [
    {
     "data": {
      "text/html": [
       "0.713577977222141"
      ],
      "text/latex": [
       "0.713577977222141"
      ],
      "text/markdown": [
       "0.713577977222141"
      ],
      "text/plain": [
       "[1] 0.713578"
      ]
     },
     "metadata": {},
     "output_type": "display_data"
    }
   ],
   "source": [
    "pnorm(q = 65,mean = mean_mheight,sd = sd_mheight) - pnorm(q = 60,mean = mean_mheight,sd = sd_mheight) "
   ]
  },
  {
   "cell_type": "markdown",
   "metadata": {},
   "source": [
    "<h4>c.number v such that Pr(E(mheight) –v < mheight < E(mheight) + v) = 0.95</h4>"
   ]
  },
  {
   "cell_type": "code",
   "execution_count": 9,
   "metadata": {
    "collapsed": false
   },
   "outputs": [
    {
     "data": {
      "text/html": [
       "4.69041575982343"
      ],
      "text/latex": [
       "4.69041575982343"
      ],
      "text/markdown": [
       "4.69041575982343"
      ],
      "text/plain": [
       "[1] 4.690416"
      ]
     },
     "metadata": {},
     "output_type": "display_data"
    }
   ],
   "source": [
    "#for 0.95 probability v should be in 2 standard deviation from mean. So v=2*sd\n",
    "v= 2*sd_mheight\n",
    "v"
   ]
  },
  {
   "cell_type": "markdown",
   "metadata": {},
   "source": [
    "<h4>d. 0.25 quantile of mheight</h4>"
   ]
  },
  {
   "cell_type": "code",
   "execution_count": 10,
   "metadata": {
    "collapsed": false
   },
   "outputs": [
    {
     "data": {
      "text/html": [
       "60.9181813229205"
      ],
      "text/latex": [
       "60.9181813229205"
      ],
      "text/markdown": [
       "60.9181813229205"
      ],
      "text/plain": [
       "[1] 60.91818"
      ]
     },
     "metadata": {},
     "output_type": "display_data"
    }
   ],
   "source": [
    "qnorm(p=0.25,mean=mean_mheight,sd=sd_mheight)"
   ]
  },
  {
   "cell_type": "markdown",
   "metadata": {},
   "source": [
    "<h4>e. first quatile and median</h4>"
   ]
  },
  {
   "cell_type": "code",
   "execution_count": 11,
   "metadata": {
    "collapsed": false
   },
   "outputs": [
    {
     "data": {
      "text/html": [
       "60.9181813229205"
      ],
      "text/latex": [
       "60.9181813229205"
      ],
      "text/markdown": [
       "60.9181813229205"
      ],
      "text/plain": [
       "[1] 60.91818"
      ]
     },
     "metadata": {},
     "output_type": "display_data"
    },
    {
     "data": {
      "text/html": [
       "62.5"
      ],
      "text/latex": [
       "62.5"
      ],
      "text/markdown": [
       "62.5"
      ],
      "text/plain": [
       "[1] 62.5"
      ]
     },
     "metadata": {},
     "output_type": "display_data"
    }
   ],
   "source": [
    "qnorm(p=0.25,mean=mean_mheight,sd=sd_mheight) #Quartile\n",
    "qnorm(p=0.5,mean=mean_mheight,sd=sd_mheight) #Mean"
   ]
  },
  {
   "cell_type": "markdown",
   "metadata": {},
   "source": [
    "<h4>f. 95% confidence interval for mheight</h4>"
   ]
  },
  {
   "cell_type": "code",
   "execution_count": 12,
   "metadata": {
    "collapsed": false
   },
   "outputs": [
    {
     "data": {
      "text/html": [
       "'[60.541236,64.458764]'"
      ],
      "text/latex": [
       "'{[}60.541236,64.458764{]}'"
      ],
      "text/markdown": [
       "'[60.541236,64.458764]'"
      ],
      "text/plain": [
       "[1] \"[60.541236,64.458764]\""
      ]
     },
     "metadata": {},
     "output_type": "display_data"
    }
   ],
   "source": [
    "#As both mean and stddev of the population is known and as it follows the normal distribution, 95% confidence interval would be\n",
    "#with in 2 standard deviation from the mean\n",
    "random_h <- sample(Heights$mheight,1)\n",
    "error = pnorm(0.975) * sd_mheight\n",
    "sprintf(\"[%f,%f]\",mean_mheight-error,mean_mheight+error)"
   ]
  },
  {
   "cell_type": "markdown",
   "metadata": {},
   "source": [
    "<h4>1.6 T test for two corelated data's expected values"
   ]
  },
  {
   "cell_type": "code",
   "execution_count": 14,
   "metadata": {
    "collapsed": false
   },
   "outputs": [
    {
     "name": "stdout",
     "output_type": "stream",
     "text": [
      "[1] -1.645963\n",
      "[1] -19.18397\n",
      "[1] \"rejected null hypothesis as t is much less than t crtical\"\n"
     ]
    }
   ],
   "source": [
    "#Null Hypothesis is mean_d = 0\n",
    "#assuming signficance level alpha = 0.05\n",
    "d <- Heights$mheight - Heights$dheight\n",
    "\n",
    "alpha <- 0.05\n",
    "p <- alpha\n",
    "df <- length(d)-1\n",
    "tc <- qt(p,df)\n",
    "print(tc) #we reject if d is much less than this critical t\n",
    "\n",
    "mean_d<- mean(d)\n",
    "se_d <- std_error(d)\n",
    "t <- mean_d/se_d\n",
    "print(t)\n",
    "print('rejected null hypothesis as t is much less than t crtical')"
   ]
  }
 ],
 "metadata": {
  "anaconda-cloud": {},
  "kernelspec": {
   "display_name": "R",
   "language": "R",
   "name": "ir"
  },
  "language_info": {
   "codemirror_mode": "r",
   "file_extension": ".r",
   "mimetype": "text/x-r-source",
   "name": "R",
   "pygments_lexer": "r",
   "version": "3.4.1"
  }
 },
 "nbformat": 4,
 "nbformat_minor": 1
}
